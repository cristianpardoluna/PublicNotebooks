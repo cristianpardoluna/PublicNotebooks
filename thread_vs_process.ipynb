{
 "cells": [
  {
   "attachments": {},
   "cell_type": "markdown",
   "metadata": {},
   "source": [
    "### **The GIL and its effects on Python multithreading**: contains an extensive study on performance effects caused by the Global Interpreter Lock (GIL): [GIL Behind The Scenes](https://tenthousandmeters.com/blog/python-behind-the-scenes-13-the-gil-and-its-effects-on-python-multithreading/#:~:text=The%20GIL%20allows%20only%20one,negative%20effect%20of%20the%20GIL.)."
   ]
  },
  {
   "cell_type": "code",
   "execution_count": 14,
   "metadata": {},
   "outputs": [],
   "source": [
    "import math, time, urllib.request\n",
    "import matplotlib.pyplot as plt\n",
    "from concurrent.futures import ThreadPoolExecutor, ProcessPoolExecutor"
   ]
  },
  {
   "cell_type": "code",
   "execution_count": 15,
   "metadata": {},
   "outputs": [],
   "source": [
    "def multi_threading(func, args, workers):\n",
    "    with ThreadPoolExecutor(workers) as ex:\n",
    "        # creates a pool of threads and assigns func/args\n",
    "        # to each\n",
    "        res = ex.map(func, args)\n",
    "    return list(res)\n",
    "\n",
    "def multi_processing(func, args, workers):\n",
    "    with ProcessPoolExecutor(workers) as ex:\n",
    "        res = ex.map(func, args)\n",
    "    return list(res)"
   ]
  },
  {
   "attachments": {},
   "cell_type": "markdown",
   "metadata": {},
   "source": [
    "## Multithreading: I/O intensive tasks"
   ]
  },
  {
   "cell_type": "code",
   "execution_count": 34,
   "metadata": {},
   "outputs": [],
   "source": [
    "addrs = ['http://www.poatek.com', 'https://www.poatek.com/team/', 'https://www.poatek.com/blog/',\n",
    "    'https://www.poatek.com/our-method/', 'https://www.poatek.com/services/', 'https://en.wikipedia.org/wiki/Main_Page', \n",
    "    'https://www.google.com/', 'https://www.kaggle.com/competitions', 'https://www.amazon.com/charts/mostread/fiction/', \n",
    "    'https://www.amazon.com/charts/mostread/nonfiction', 'https://www.amazon.com/charts/mostsold/nonfiction', \n",
    "    'https://www.amazon.com/charts/mostsold/fiction', 'https://www.nytimes.com', 'https://www.bbc.com/', \n",
    "    'https://www.lemonde.fr', 'https://edition.cnn.com',]\n",
    "\n",
    "def io_intensive(x):\n",
    "    write_count = 50\n",
    "    with urllib.request.urlopen(addrs[x], timeout=20) as conn:\n",
    "        page = conn.read()\n",
    "        for _ in range(write_count):\n",
    "            with open(\"output.txt\", \"w\") as output:\n",
    "                output.write(str(page))\n",
    "\n",
    "def test_io_intensive_threads(thread_count_lst, addrs):\n",
    "    times = []\n",
    "    num_tasks = len(addrs)\n",
    "\n",
    "    # single thread execution\n",
    "    time_init = time.time()\n",
    "    for i in range(num_tasks):\n",
    "        io_intensive(i)\n",
    "    time_end = time.time()\n",
    "    times.append(float(time_end - time_init))\n",
    "    print(f\"Serial execution took {time_end - time_init}s.\")\n",
    "\n",
    "    # n-threaded execution\n",
    "    for n_threads in thread_count_lst:\n",
    "        time_init = time.time()\n",
    "        multi_threading(io_intensive, range(num_tasks), n_threads)\n",
    "        time_end = time.time()\n",
    "        times.append(float(time_end - time_init))\n",
    "        print(f\"Multithreading with {n_threads} threads \"\n",
    "        f\"took {time_end - time_init}s.\")\n",
    "    return times"
   ]
  },
  {
   "cell_type": "code",
   "execution_count": 35,
   "metadata": {},
   "outputs": [
    {
     "name": "stdout",
     "output_type": "stream",
     "text": [
      "Serial execution took 26.156383991241455s.\n",
      "Multithreading with 2 threads took 12.455011367797852s.\n",
      "Multithreading with 4 threads took 6.1380956172943115s.\n",
      "Multithreading with 8 threads took 4.347453355789185s.\n",
      "Multithreading with 16 threads took 2.822296142578125s.\n"
     ]
    }
   ],
   "source": [
    "times = test_io_intensive_threads([2, 4, 8, 16], addrs)"
   ]
  },
  {
   "cell_type": "code",
   "execution_count": 31,
   "metadata": {},
   "outputs": [
    {
     "data": {
      "image/png": "[encoded data removed]",
      "text/plain": [
       "<Figure size 300x300 with 1 Axes>"
      ]
     },
     "metadata": {},
     "output_type": "display_data"
    }
   ],
   "source": [
    "def addlabels(x,y):\n",
    "    for i in range(len(x)):\n",
    "        plt.text(i, y[i]//2, y[i], ha = 'center')\n",
    "\n",
    "fig = plt.figure(figsize=(3,3))\n",
    "ax = fig.add_axes([0,0,1,1])\n",
    "ax.set_xlabel('Number of Threads')\n",
    "ax.set_ylabel('Execution Time [s]')\n",
    "num_threads = ['1', '2', '4', '8', '16']\n",
    "ax.bar(num_threads, times)\n",
    "\n",
    "addlabels(num_threads, [round(x, 1) for x in times])\n",
    "plt.show()"
   ]
  },
  {
   "cell_type": "code",
   "execution_count": 38,
   "metadata": {},
   "outputs": [],
   "source": [
    "def compute_intensive(x):\n",
    "    foo = 0\n",
    "    for i in range(10**7):\n",
    "        foo += foo * math.cos(i*math.pi)\n",
    "\n",
    "def test_compute_intensive():\n",
    "    times = []\n",
    "    num_tasks = 4\n",
    "\n",
    "    # single thread execution\n",
    "    time_init = time.time()\n",
    "    for i in range(num_tasks):\n",
    "        compute_intensive(i)\n",
    "    time_end = time.time()\n",
    "    times.append(float(time_end - time_init))\n",
    "    print(f\"Serial execution took {time_end - time_init}s.\")\n",
    "    \n",
    "    # n-threaded execution\n",
    "    n_threads = num_tasks\n",
    "    time_init = time.time()\n",
    "    multi_threading(compute_intensive, range(num_tasks), n_threads)\n",
    "    time_end = time.time()\n",
    "    times.append(float(time_end - time_init))\n",
    "    print(f\"Multithreaded w {n_threads} threads took \"\n",
    "    f\"{time_end - time_init}s.\")\n",
    "\n",
    "    # multiprocessing execution\n",
    "    time_init = time.time()\n",
    "    n_procs = num_tasks\n",
    "    multi_processing(compute_intensive, range(num_tasks), n_procs)\n",
    "    time_end = time.time()\n",
    "    times.append(float(time_end - time_init))\n",
    "    print(f\"Multiprocessing w {n_procs} processes took {time_end - time_init}s.\")\n",
    "    return times"
   ]
  },
  {
   "cell_type": "code",
   "execution_count": 39,
   "metadata": {},
   "outputs": [
    {
     "name": "stdout",
     "output_type": "stream",
     "text": [
      "Serial execution took 6.373517274856567s.\n",
      "Multithreaded w 4 threads took 23.539126873016357s.\n",
      "Multiprocessing w 4 processes took 1.990689992904663s.\n"
     ]
    }
   ],
   "source": [
    "times = test_compute_intensive()"
   ]
  },
  {
   "cell_type": "code",
   "execution_count": 40,
   "metadata": {},
   "outputs": [
    {
     "data": {
      "image/png": "[encoded data removed]",
      "text/plain": [
       "<Figure size 300x300 with 1 Axes>"
      ]
     },
     "metadata": {},
     "output_type": "display_data"
    }
   ],
   "source": [
    "def addlabels(x,y):\n",
    "    for i in range(len(x)):\n",
    "        plt.text(i, y[i]//2, y[i], ha = 'center')\n",
    "\n",
    "fig = plt.figure(figsize=(3,3))\n",
    "ax = fig.add_axes([0,0,1,1])\n",
    "ax.set_xlabel('Execution')\n",
    "ax.set_ylabel('Execution Time [s]')\n",
    "num_threads = ['Serial', '4 Threads', '4 Processes']\n",
    "ax.bar(num_threads, times)\n",
    "\n",
    "addlabels(num_threads, [round(x, 1) for x in times])\n",
    "plt.show()"
   ]
  }
 ],
 "metadata": {
  "kernelspec": {
   "display_name": "Python 3",
   "language": "python",
   "name": "python3"
  },
  "language_info": {
   "codemirror_mode": {
    "name": "ipython",
    "version": 3
   },
   "file_extension": ".py",
   "mimetype": "text/x-python",
   "name": "python",
   "nbconvert_exporter": "python",
   "pygments_lexer": "ipython3",
   "version": "3.10.6"
  },
  "orig_nbformat": 4,
  "vscode": {
   "interpreter": {
    "hash": "916dbcbb3f70747c44a77c7bcd40155683ae19c65e1c03b4aa3499c5328201f1"
   }
  }
 },
 "nbformat": 4,
 "nbformat_minor": 2
}
