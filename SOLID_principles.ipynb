{
 "cells": [
  {
   "attachments": {},
   "cell_type": "markdown",
   "metadata": {},
   "source": [
    "# SOLID Principles\n",
    "1. The Single-Responsibility Principle **(SRP)**\n",
    "2. The Open-Closed Principle **(OCP)**\n",
    "3. The Liskov Substitution Principle **(LSP)**\n",
    "4. The Interface Segregation Principle **(ISP)**\n",
    "5. The Dependency Inversion Principle **(DIP)**\n",
    "\n",
    "These are not to be applied in specific order but a collection of principles gathered as best practices, each has an acronym, other popular best practices like DRY (Don't repeat yourself) and KISS (Keep It Small and Simple - Stupid Simple)."
   ]
  },
  {
   "attachments": {},
   "cell_type": "markdown",
   "metadata": {},
   "source": [
    "## THE SINGLE-RESPONSIBILITY PRINCIPLE (SRP)\n",
    "### A class should have one, and only one, reason to change...\n",
    "In other words, every component of your code (in general a class (?) but also a function) should have one and only one responibility. As a consequence of that, there should be only a reason to change it."
   ]
  },
  {
   "cell_type": "code",
   "execution_count": 2,
   "metadata": {},
   "outputs": [
    {
     "name": "stdout",
     "output_type": "stream",
     "text": [
      "The mean is: 2.5\n",
      "The mean is: 4\n"
     ]
    }
   ],
   "source": [
    "# BAD APPROACH: a single function takes care of an entire operation\n",
    "import numpy as np\n",
    "def math_operations(list_):\n",
    "    # Compute average\n",
    "    print(f\"The mean is: {np.mean(list_)}\")\n",
    "\n",
    "    # Compute max\n",
    "    print(f\"The mean is: {np.max(list_)}\")\n",
    "\n",
    "math_operations(list_ = [1, 2, 3, 4])"
   ]
  },
  {
   "cell_type": "code",
   "execution_count": 4,
   "metadata": {},
   "outputs": [
    {
     "name": "stdout",
     "output_type": "stream",
     "text": [
      "The mean is: 2.5\n",
      "The max is: 4\n"
     ]
    }
   ],
   "source": [
    "# GOOD APPROACH: main functions coordinates how every atomic function is to be executed\n",
    "# therefore, is the only one susceptible to changes\n",
    "def get_mean(list_):\n",
    "    \"\"\"Compute Mean\"\"\"\n",
    "    print(f\"The mean is: {np.mean(list_)}\")\n",
    "\n",
    "\n",
    "def get_max(list_):\n",
    "    \"\"\"Compute Mean\"\"\"\n",
    "    print(f\"The max is: {np.max(list_)}\")\n",
    "\n",
    "def main(list_):\n",
    "    # first: compute averate\n",
    "    get_mean(list_)\n",
    "\n",
    "    # second: compute max\n",
    "    get_max(list_)\n",
    "\n",
    "main([1, 2, 3, 4])"
   ]
  },
  {
   "attachments": {},
   "cell_type": "markdown",
   "metadata": {},
   "source": [
    "## THE OPEN-CLOSED PRINCIPLE (OCP)\n",
    "### Software entities... should be open for exentsion but closed for modification\n",
    "In Python this can be applied using Abstract Classes to blueprint how every inheriting class should work, that way if we need to add a new operation we just have to add a new subclass inheriting from Operations but the base class is not modified."
   ]
  },
  {
   "cell_type": "code",
   "execution_count": 7,
   "metadata": {},
   "outputs": [
    {
     "name": "stdout",
     "output_type": "stream",
     "text": [
      "The mean is: 2.5\n",
      "The mean is: 4\n"
     ]
    }
   ],
   "source": [
    "import numpy as np\n",
    "from abc import ABC, abstractmethod\n",
    "\n",
    "class Operations(ABC):\n",
    "    \"\"\"Operations\"\"\"\n",
    "    @abstractmethod\n",
    "    def operation():\n",
    "        pass\n",
    "\n",
    "class Mean(Operations):\n",
    "    \"\"\"Compute mean\"\"\"\n",
    "    # overwrite the abstract class operation method\n",
    "    def operation(list_):\n",
    "        print(f\"The mean is: {np.mean(list_)}\")\n",
    "\n",
    "class Max(Operations):\n",
    "    \"\"\"Compute max\"\"\"\n",
    "    def operation(list_):\n",
    "        print(f\"The mean is: {np.max(list_)}\")\n",
    "\n",
    "class Main:\n",
    "    \"\"\"Main\"\"\"\n",
    "    @abstractmethod\n",
    "    def get_operations(list_):\n",
    "        # __subclasses__ iterates over every class inheriting from Operations\n",
    "        for operation in Operations.__subclasses__():\n",
    "            operation.operation(list_)\n",
    "\n",
    "if __name__ == \"__main__\":\n",
    "    Main.get_operations([1, 2, 3, 4])"
   ]
  },
  {
   "attachments": {},
   "cell_type": "markdown",
   "metadata": {},
   "source": [
    "## THE LISKOV SUBSTITUTION PRINCIPLE (LSP)\n",
    "### Functions that use pointer or refences to base classes must be able to use objects of derived classes without knowing it\n",
    "Alternatively, this can be expressed as \"Derived classes must be substituitable for their base classes\"."
   ]
  },
  {
   "attachments": {},
   "cell_type": "markdown",
   "metadata": {},
   "source": [
    "In simpler words this means that if a subclass redefines a function also present in parent class, a client-user (remember the API part in the previous principle) shoud not be noticing any difference in **behaviour**, and it is a **substitute** for the base class.\n",
    "For example, base class `Operations` in prev. example has a method `operation()` that does nothing.\\\n",
    "If a subclass overwrites the function `operation()` but this subclass actually returns a value instead of printing and passing, this would result in a different behaviour, not a catastrofic one but it changes how the function can be handled."
   ]
  },
  {
   "attachments": {},
   "cell_type": "markdown",
   "metadata": {},
   "source": [
    "## THE INTERFACE SEGREGATION PRINCIPLE (ISP)\n",
    "### Many client-specific interfaces are better than one general-purpose interface\n",
    "In simpler words, and in a class-based context (Python) every class and its interface (every *exposed* property or method) should have only the interface needed & try to avoid exposing methods that not always are going to work."
   ]
  },
  {
   "cell_type": "code",
   "execution_count": 10,
   "metadata": {},
   "outputs": [
    {
     "name": "stdout",
     "output_type": "stream",
     "text": [
      "Humans can walk\n",
      "Humans can swim\n",
      "Can walk\n",
      "Whales can swim\n"
     ]
    }
   ],
   "source": [
    "# WRONG APPROACH: I inherited the class Mammals but its interface indicates that every mammal can 'walk'\n",
    "# & 'swim' this is not correct if we consider whales as an example\n",
    "import numpy as np\n",
    "from abc import ABC, abstractmethod\n",
    "\n",
    "class Mammals(ABC):\n",
    "    @abstractmethod\n",
    "    def swim() -> bool:\n",
    "        print(\"Can swim\")\n",
    "\n",
    "    @abstractmethod\n",
    "    def walk() -> bool:\n",
    "        print(\"Can walk\")\n",
    "\n",
    "class Human(Mammals):\n",
    "    def swim():\n",
    "        return print(\"Humans can swim\")\n",
    "\n",
    "    def walk():\n",
    "        return print(\"Humans can walk\")\n",
    "\n",
    "class Whale(Mammals):\n",
    "    def swim():\n",
    "        return print(\"Whales can swim\")\n",
    "\n",
    "# lets invoke the methods\n",
    "Human.walk()\n",
    "Human.swim()\n",
    "\n",
    "Whale.walk() # <- whales cannot walk so why is this method accessed by whales?\n",
    "Whale.swim()\n"
   ]
  },
  {
   "cell_type": "code",
   "execution_count": 13,
   "metadata": {},
   "outputs": [
    {
     "name": "stdout",
     "output_type": "stream",
     "text": [
      "Humans can walk\n",
      "Humans can swim\n",
      "Whales cannot walk\n",
      "Whales can swim\n"
     ]
    }
   ],
   "source": [
    "# BEST APPROACH: the way ISP indicates is there should be more specific-client interfaces, lets refactor\n",
    "# previous code having in mind this:\n",
    "from abc import ABC, abstractmethod\n",
    "\n",
    "class Walker(ABC):\n",
    "    @abstractmethod\n",
    "    def walk() -> bool:\n",
    "        return print(\"Can walk\")\n",
    "\n",
    "class Swimmer(ABC):\n",
    "    @abstractmethod\n",
    "    def swim() -> bool:\n",
    "        return print(\"Can swim\")\n",
    "\n",
    "class Human(Walker, Swimmer):\n",
    "    def walk():\n",
    "        return print(\"Humans can walk\")\n",
    "\n",
    "    def swim():\n",
    "        return print(\"Humans can swim\")\n",
    "\n",
    "class Whale(Swimmer):\n",
    "    def swim():\n",
    "        return print(\"Whales can swim\")\n",
    "\n",
    "# lets invoke the methods\n",
    "Human.walk()\n",
    "Human.swim()\n",
    "\n",
    "try:\n",
    "    Whale.walk()\n",
    "except AttributeError:\n",
    "    print(\"Whales cannot walk\")\n",
    "Whale.swim()"
   ]
  },
  {
   "attachments": {},
   "cell_type": "markdown",
   "metadata": {},
   "source": [
    "## THE DEPENDENCY INVERSION PRINCIPLE (DIP)\n",
    "### Abstractions should not depend on details. Details should depend on abstraction. High-level modules should not depend on low-level modules. Both should depend on abstractions"
   ]
  },
  {
   "attachments": {},
   "cell_type": "markdown",
   "metadata": {},
   "source": [
    "This basically indicates us that if we have an abstract class acting as a dependency of many modules, a change in that class would *break the code*, but under DIP we create a new interface for said abstract class, this interface would have to deal with the *adaptation* of each subclass or module"
   ]
  },
  {
   "cell_type": "code",
   "execution_count": 14,
   "metadata": {},
   "outputs": [
    {
     "name": "stdout",
     "output_type": "stream",
     "text": [
      "100 EUR = 120.0 USD\n"
     ]
    }
   ],
   "source": [
    "class FXConverter:\n",
    "    def convert(self, from_currency, to_currency, amount):\n",
    "        print(f'{amount} {from_currency} = {amount * 1.2} {to_currency}')\n",
    "        return amount * 1.2\n",
    "\n",
    "class App:\n",
    "    def start(self):\n",
    "        converter = FXConverter() # the app depends heavily on FXConverter() a change\n",
    "        # in that class could change many behaviours if its being used for other modules.\n",
    "        # lets say we don't wanna use the FXConverter but still want to convert some concurrencies\n",
    "        converter.convert('EUR', 'USD', 100)\n",
    "\n",
    "if __name__ == '__main__':\n",
    "    app = App()\n",
    "    app.start()"
   ]
  },
  {
   "cell_type": "code",
   "execution_count": 15,
   "metadata": {},
   "outputs": [
    {
     "name": "stdout",
     "output_type": "stream",
     "text": [
      "Converting currency using FX API\n",
      "100 EUR = 120.0 USD\n"
     ]
    }
   ],
   "source": [
    "class CurrencyConverter(ABC):\n",
    "    def convert(self, from_currency, to_currency, amount) -> float:\n",
    "        pass\n",
    "\n",
    "class FXConverter(CurrencyConverter):\n",
    "    def convert(self, from_currency, to_currency, amount) -> float:\n",
    "        print('Converting currency using FX API')\n",
    "        print(f'{amount} {from_currency} = {amount * 1.2} {to_currency}')\n",
    "        return amount * 2\n",
    "\n",
    "class App:\n",
    "    def __init__(self, converter: CurrencyConverter):\n",
    "        self.converter = converter\n",
    "\n",
    "    def start(self):\n",
    "        self.converter.convert('EUR', 'USD', 100)\n",
    "\n",
    "if __name__ == '__main__':\n",
    "    converter = FXConverter() # in this case the class FXConverter is still being used but\n",
    "    # it inherits from an abstract class that responds to a much higher need this is the inverse\n",
    "    # way of thinking when writing OOP programs.\n",
    "    app = App(converter)\n",
    "    app.start()"
   ]
  }
 ],
 "metadata": {
  "kernelspec": {
   "display_name": "Python 3",
   "language": "python",
   "name": "python3"
  },
  "language_info": {
   "codemirror_mode": {
    "name": "ipython",
    "version": 3
   },
   "file_extension": ".py",
   "mimetype": "text/x-python",
   "name": "python",
   "nbconvert_exporter": "python",
   "pygments_lexer": "ipython3",
   "version": "3.10.6"
  },
  "orig_nbformat": 4,
  "vscode": {
   "interpreter": {
    "hash": "916dbcbb3f70747c44a77c7bcd40155683ae19c65e1c03b4aa3499c5328201f1"
   }
  }
 },
 "nbformat": 4,
 "nbformat_minor": 2
}
