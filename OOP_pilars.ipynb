{
 "cells": [
  {
   "attachments": {},
   "cell_type": "markdown",
   "metadata": {},
   "source": [
    "# Four pillars of Object-Oriented Programming\n",
    "based in: [The four pillars of Ojbect-Oriented Programming.](https://www.linkedin.com/pulse/python-four-pillars-object-oriented-programming-benjamin-b-phiri?trk=pulse-article#:~:text=Like%20other%20Object%2DOriented%20languages,%2C%20Polymorphism%2C%20Encapsulation%20and%20Abstraction.) \\\n",
    "Three big paradigm in software development are: Functional Oriented Programming (FOC), Procedural Oriented Programming (POP) and Object Oriented Programmming (OOP)\n",
    "1. Inheritance\n",
    "2. Polymorphism\n",
    "3. Encapsulation\n",
    "4. Abstraction"
   ]
  },
  {
   "attachments": {},
   "cell_type": "markdown",
   "metadata": {},
   "source": [
    "## INHERITANCE\n",
    "In Python we can create an object that inherits the methods and properties of another object. This is called inheritance. In inheritance, there is a parent class and a child class. A child class inherits the properties and methods of the parent class. Here is an example of how inheritance is implemented when creating objects in Python"
   ]
  },
  {
   "cell_type": "code",
   "execution_count": 2,
   "metadata": {},
   "outputs": [],
   "source": [
    "# Parent class\n",
    "class Animals:\n",
    "    def __init__(self, name, age):\n",
    "        self.name = name\n",
    "        self.age = age\n",
    "\n",
    "# Child class that inherits from the parent class\n",
    "class Dog(Animals):\n",
    "    def __init__(self, name, age, color):\n",
    "        # Using super to access methods of the parent class\n",
    "        super().__init__(name, age)\n",
    "        # but this time new property color is added at init\n",
    "        self.color = color"
   ]
  },
  {
   "attachments": {},
   "cell_type": "markdown",
   "metadata": {},
   "source": [
    "## POLYMORPHISM\n",
    "This means 'may forms'. In Python this means that you can have one function or object that can be used in different ways. Let's take an example of the addition operation (+); we can use it to sum numbers and also to concatenate two strings"
   ]
  },
  {
   "cell_type": "code",
   "execution_count": 7,
   "metadata": {},
   "outputs": [
    {
     "name": "stdout",
     "output_type": "stream",
     "text": [
      "Sum two integers: 55\n",
      "Concatenate two strings: Hola mundo\n"
     ]
    }
   ],
   "source": [
    "# with integers\n",
    "x = 45\n",
    "y = 10\n",
    "print(f\"Sum two integers: {x + y}\")\n",
    "\n",
    "# with strings\n",
    "x = \"Hola\"\n",
    "y = \"mundo\"\n",
    "print(f\"Concatenate two strings: {x + ' ' + y}\")"
   ]
  },
  {
   "cell_type": "code",
   "execution_count": 8,
   "metadata": {},
   "outputs": [
    {
     "name": "stdout",
     "output_type": "stream",
     "text": [
      "This method starts all cars\n",
      "This method starts a Tesla\n",
      "This method starts a BMW\n"
     ]
    }
   ],
   "source": [
    "# In OOP we can implement polymorphism with inheritance, the methods of the child class\n",
    "# will have the same name that the parent class.\n",
    "class Cars:\n",
    "    def start(self): # Cars class method\n",
    "        return \"This method starts all cars\"\n",
    "\n",
    "class Tesla(Cars):\n",
    "    def start(self): # Tesla class inheriting of Cars\n",
    "        return \"This method starts a Tesla\"\n",
    "\n",
    "class BMW(Cars):\n",
    "    def start(self): # BWM class inheriting of Cars\n",
    "        return \"This method starts a BMW\"\n",
    "\n",
    "\n",
    "# Instantiating and printing cars object\n",
    "car = Cars()\n",
    "print(car.start())\n",
    "\n",
    "tesla = Tesla()\n",
    "print(tesla.start())\n",
    "\n",
    "bmw = BMW()\n",
    "print(bmw.start()) # <- each one is called the exact same way"
   ]
  },
  {
   "attachments": {},
   "cell_type": "markdown",
   "metadata": {},
   "source": [
    "## ENCAPSULATION\n",
    "This is the process of making data private by warpping data and its methods in a 'capsule' or unit, so that it can not be accessed or modified outside of that unit. This is achieved by making variables inside a class private. In Python we can make variables *private* by prefixing the variable name with a double underscore '__'."
   ]
  },
  {
   "cell_type": "code",
   "execution_count": 21,
   "metadata": {},
   "outputs": [
    {
     "name": "stdout",
     "output_type": "stream",
     "text": [
      "This a BMW running.\n",
      "You cannot access that variable\n",
      "This a BMW running.\n"
     ]
    }
   ],
   "source": [
    "class Car:\n",
    "    def __init__(self, brand):\n",
    "        self.__brand = brand\n",
    "\n",
    "    def run(self):\n",
    "        return f\"This a {self.__brand} running.\"\n",
    "\n",
    "car = Car(\"BMW\")\n",
    "print(car.run()) # we can see the variable name through a method\n",
    "try:\n",
    "    print(car.__brand) # we cannot see the variable accessing it directly,\n",
    "    # therefore we cannot change it.\n",
    "except AttributeError:\n",
    "    print(\"You cannot access that variable\")\n",
    "\n",
    "car.__brand = \"Tesla\"\n",
    "print(car.run())"
   ]
  },
  {
   "attachments": {},
   "cell_type": "markdown",
   "metadata": {},
   "source": [
    "## ABSTRACTION\n",
    "Abstraction is about keeping the internal mechanics of the code hidden from the user. This reduces the complexity of the code, and ensures that we only concentrate on what is important.\\\n",
    "\\\n",
    "In OOP abstraction is achieved by creating an interface class (base class) and **implementation classes** (subclasses). We can create an interface class using the built-in **abc** module. Below, we create an abstract class called Car."
   ]
  },
  {
   "cell_type": "code",
   "execution_count": 4,
   "metadata": {},
   "outputs": [
    {
     "name": "stdout",
     "output_type": "stream",
     "text": [
      "This Tesla model is Y\n",
      "This BMW model is X6\n"
     ]
    }
   ],
   "source": [
    "from abc import ABC, abstractmethod\n",
    "\n",
    "# Abstract class\n",
    "class Car(ABC):\n",
    "    @abstractmethod\n",
    "    def car_model(self):\n",
    "        pass\n",
    "\n",
    "class Tesla(Car):\n",
    "    def car_model(self):\n",
    "        print(\"This Tesla model is Y\")\n",
    "\n",
    "class BWM(Car):\n",
    "    def car_model(self):\n",
    "        print(\"This BMW model is X6\")\n",
    "\n",
    "# Instantiating the objects in the implementation classes\n",
    "y = Tesla()\n",
    "y.car_model()\n",
    "\n",
    "x = BWM()\n",
    "x.car_model()"
   ]
  }
 ],
 "metadata": {
  "kernelspec": {
   "display_name": "Python 3",
   "language": "python",
   "name": "python3"
  },
  "language_info": {
   "codemirror_mode": {
    "name": "ipython",
    "version": 3
   },
   "file_extension": ".py",
   "mimetype": "text/x-python",
   "name": "python",
   "nbconvert_exporter": "python",
   "pygments_lexer": "ipython3",
   "version": "3.10.12"
  },
  "orig_nbformat": 4,
  "vscode": {
   "interpreter": {
    "hash": "916dbcbb3f70747c44a77c7bcd40155683ae19c65e1c03b4aa3499c5328201f1"
   }
  }
 },
 "nbformat": 4,
 "nbformat_minor": 2
}
