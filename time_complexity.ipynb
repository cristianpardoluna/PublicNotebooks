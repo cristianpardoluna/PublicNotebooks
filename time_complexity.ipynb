{
 "cells": [
  {
   "attachments": {},
   "cell_type": "markdown",
   "metadata": {},
   "source": [
    "### **Big-O Cheat Sheet**: Contains time & space complexity for popular algorithms [bigocheatsheet.com](https://www.bigocheatsheet.com/)."
   ]
  },
  {
   "attachments": {},
   "cell_type": "markdown",
   "metadata": {},
   "source": [
    "# TIME COMPLEXITY\n",
    "Based on article [Understading time complexity with Python examples.](https://towardsdatascience.com/understanding-time-complexity-with-python-examples-2bda6e8158a7)\\\n",
    "These are the most common time complexities expressed using the Big-O notation:\n",
    "1. **Constant Time:** O(1) [EXCELLENT PERFORMANCE]\n",
    "2. **Logarithmic Time:** O(log n) [EXCELLENT/GOOD PERFORMANCE]\n",
    "3. **Linear Time:** O(n) [FAIR PERFORMANCE]\n",
    "4. **Quasilinear Time:** O(n log n) [BAD PERFORMANCE]\n",
    "5. **Quadratic Time:** O(n^2) [HORRIBLE PERFORMANCE]\n",
    "6. **Exponential Time:** O(2^n) [HORRIBLE PERFORMANCE]\n",
    "7. **Factorial Time:** O(n!) [HORRIBLE PERFORMANCE]\n",
    "\n",
    "**NOTE:** when analyzing the time complexity of a multi-operational algorithm the largest time complexity its the correct one to describe said algorithm (see plots)."
   ]
  },
  {
   "cell_type": "code",
   "execution_count": 119,
   "metadata": {},
   "outputs": [
    {
     "data": {
      "image/png": "[encoded data removed]",
      "text/plain": [
       "<Figure size 640x480 with 1 Axes>"
      ]
     },
     "metadata": {},
     "output_type": "display_data"
    }
   ],
   "source": [
    "import matplotlib.pyplot as plt\n",
    "import numpy as np\n",
    "\n",
    "fig = plt.figure()\n",
    "ax = fig.add_subplot(1, 1, 1)\n",
    "\n",
    "# constant time\n",
    "plt.axhline(y=1, label=\"Constant time\", color=\"red\")\n",
    "\n",
    "# exponential time\n",
    "x2 = np.linspace(0, 10, 10)\n",
    "y2 = x2**2\n",
    "plt.plot(x2, y2, label=\"Exp. time\", color=\"blue\")\n",
    "\n",
    "# linear time\n",
    "x3 = np.linspace(0, 100, 10)\n",
    "y3 = 2*x3+1\n",
    "plt.plot(x3, y3, label=\"Linear time\", color=\"green\")\n",
    "\n",
    "\n",
    "plt.legend()\n",
    "plt.show()"
   ]
  },
  {
   "attachments": {},
   "cell_type": "markdown",
   "metadata": {},
   "source": [
    "## CONSTANT TIME - O(1)\n",
    "This happens when the algorithm doesn't depend on the input data (n). No matter what its size is the running time will tend to the same"
   ]
  },
  {
   "cell_type": "code",
   "execution_count": null,
   "metadata": {},
   "outputs": [],
   "source": [
    "if a > b:\n",
    "    return True\n",
    "else:\n",
    "    return False"
   ]
  },
  {
   "cell_type": "code",
   "execution_count": 3,
   "metadata": {},
   "outputs": [
    {
     "name": "stdout",
     "output_type": "stream",
     "text": [
      "First element in list: 1\n"
     ]
    }
   ],
   "source": [
    "# example with a function\n",
    "def get_head(_list):\n",
    "    return _list[0]\n",
    "head = get_head([1, 2, 3, 4, 5])\n",
    "print(f\"First element in list: {head}\")"
   ]
  },
  {
   "attachments": {},
   "cell_type": "markdown",
   "metadata": {},
   "source": [
    "## LOGARITHMIC TIME - O(log n)\n",
    "An algorithm is said to have a logarithmic time complexity when it reduces the size of the input in each step (it don't need to look at all values of the input data).\\\n",
    "<u>**NOTE:** If an algorithm MUST access all elements of its input at least once it cannot take logarithmic time to be executed, that would be a linear time execution.</u>"
   ]
  },
  {
   "cell_type": "code",
   "execution_count": 4,
   "metadata": {},
   "outputs": [
    {
     "name": "stdout",
     "output_type": "stream",
     "text": [
      "1\n",
      "4\n"
     ]
    }
   ],
   "source": [
    "data = [1, 2, 3, 4]\n",
    "for index in range(0, len(data), 3):\n",
    "    # each iteration is shorter the input?\n",
    "    print(data[index])"
   ]
  },
  {
   "cell_type": "code",
   "execution_count": 102,
   "metadata": {},
   "outputs": [
    {
     "name": "stdout",
     "output_type": "stream",
     "text": [
      "7 is in position number: 6\n"
     ]
    }
   ],
   "source": [
    "def binary_search(data, value):\n",
    "    n = len(data)\n",
    "    left = 0\n",
    "    right = n - 1\n",
    "    while left <= right:\n",
    "        middle = (left + right) // 2 # calcualte middle of list\n",
    "        if value < data[middle]:\n",
    "            right = middle - 1 # if its lower set a new bounder\n",
    "        elif value > data[middle]:\n",
    "            left = middle + 1\n",
    "        else:\n",
    "            return middle\n",
    "        \n",
    "    raise ValueError(\"Value is not in list\")\n",
    "\n",
    "if __name__ == \"__main__\":\n",
    "    data = [1, 2, 3, 4, 5, 6, 7, 8, 9]\n",
    "    val = 7\n",
    "    print(f\"{val} is in position number: {binary_search(data, val)}\")"
   ]
  },
  {
   "attachments": {},
   "cell_type": "markdown",
   "metadata": {},
   "source": [
    "## LINEAR TIME - O(n)\n",
    "An algorithm is said to have a linear time complexity when the running time increases at most linearly with the size of the input data. <br> \n",
    "<u>**This is the best possible time complexity when the algorithm must examine all values in the input data**</u>"
   ]
  },
  {
   "cell_type": "code",
   "execution_count": 10,
   "metadata": {},
   "outputs": [
    {
     "name": "stdout",
     "output_type": "stream",
     "text": [
      "a\n",
      "b\n",
      "c\n",
      "d\n"
     ]
    }
   ],
   "source": [
    "data = [\"a\", \"b\", \"c\", \"d\"]\n",
    "for value in data:\n",
    "    print(value) # if we HAD to print ever value"
   ]
  },
  {
   "cell_type": "code",
   "execution_count": 13,
   "metadata": {},
   "outputs": [
    {
     "name": "stdout",
     "output_type": "stream",
     "text": [
      "3 is in position number: 4\n"
     ]
    }
   ],
   "source": [
    "def linear_search(data, value):\n",
    "    for index in range(len(data)):\n",
    "        if value == data[index]:\n",
    "            return index\n",
    "    raise ValueError(\"Value not found in the list\")\n",
    "\n",
    "if __name__ == \"__main__\":\n",
    "    data = [1, 2, 9, 8, 3, 4, 7, 6, 5]\n",
    "    val = 3\n",
    "    print(f\"{val} is in position number: {linear_search(data, val)}\")"
   ]
  },
  {
   "attachments": {},
   "cell_type": "markdown",
   "metadata": {},
   "source": [
    "## QUASILINEAR TIME - O(n log n)\n",
    "An algorithm is said to have a quasilinear time complexity when each operation in the input data have a logartihm time complexity. Its commonlt seen in algorithms like:\n",
    "- **Mergesort:** is an efficient general-purpose, and comparison-based sorting algorithm. **its a stable sorting algorithm (mostly).**\\\n",
    "    works kinda like this:\n",
    "        \n",
    "    1. Divide the unsorte list into n sublists, each containing one element (a list of one is sorted)\n",
    "    1. Merge the sublists to produce new sorted sublists until there is only one sublist remaining. This will be the sorted list. <br><br>\n",
    "\n",
    "- **Timsort:** is a hybrid (combines two algorithms), **stable sorting**, derived from **merge sort** and **insertion sort** designed to perform well on many kinds of real-world data. This is the default sorting algorithm used in Python since 2.6 version.\n",
    "- **Heapsort:** Can be thought a as improved **selection sort**: like selection sort, heapsort divides its input into a sorted and an unsorted region, an it iteratively shrinks the unsorted region by extracting the largest element from it and inserting it into the sorted region. \n",
    "    - **Heap:** A heap is specialized tree-based data structure which is essentially an almost complete (a type of binary tree, a tree whose rightmost leaves (if not all) have been removed).\\\n",
    "    In a **max-heap** for any given node C, if P is a parent node of C, then the key (the value) of P is greater than or equal to the key of C. In a min heap happens the same but P is less than or equal to C."
   ]
  },
  {
   "cell_type": "code",
   "execution_count": 106,
   "metadata": {},
   "outputs": [
    {
     "name": "stdout",
     "output_type": "stream",
     "text": [
      "Binary search: 8\n",
      "Binary search: 8\n",
      "Binary search: 8\n",
      "Binary search: 8\n",
      "Binary search: 8\n",
      "Binary search: 8\n",
      "Binary search: 8\n",
      "Binary search: 8\n",
      "Binary search: 8\n",
      "Binary search: 8\n"
     ]
    }
   ],
   "source": [
    "result = []\n",
    "_data = [1, 2, 3, 4, 5, 6, 7, 8, 9]\n",
    "val = 9\n",
    "for value in range(10):\n",
    "    result.append(binary_search(_data, val))\n",
    "\n",
    "for _ in result:\n",
    "    print(f\"Binary search: {_}\") # applying logarithmic algorithm n times"
   ]
  },
  {
   "cell_type": "code",
   "execution_count": 108,
   "metadata": {},
   "outputs": [
    {
     "name": "stdout",
     "output_type": "stream",
     "text": [
      "[1, 3, 6, 7, 7, 8, 9, 10]\n"
     ]
    }
   ],
   "source": [
    "def merge_sort(data):\n",
    "    if len(data) <= 1:\n",
    "        return\n",
    "\n",
    "    mid = len(data) // 2\n",
    "    left_data = data[:mid]\n",
    "    right_data = data[mid:]\n",
    "\n",
    "    merge_sort(left_data)\n",
    "    merge_sort(right_data)\n",
    "\n",
    "    left_index = 0\n",
    "    right_index = 0\n",
    "    data_index = 0\n",
    "\n",
    "    while left_index < len(left_data) and right_index < len(right_data):\n",
    "        if left_data[left_index] < right_data[right_index]:\n",
    "            data[data_index] = left_data[left_index]\n",
    "            left_index += 1\n",
    "        else:\n",
    "            data[data_index] = right_data[right_index]\n",
    "            right_index += 1\n",
    "        data_index += 1\n",
    "    \n",
    "    if left_index < len(left_data):\n",
    "        del data[data_index:]\n",
    "        data += left_data[left_index:]\n",
    "    elif right_index < len(right_data):\n",
    "        del data[data_index:]\n",
    "        data += right_data[right_index:]\n",
    "\n",
    "if __name__ == \"__main__\":\n",
    "    data = [9, 1, 7, 6, 3, 7, 8, 10]\n",
    "    merge_sort(data)\n",
    "    print(data)"
   ]
  },
  {
   "attachments": {},
   "cell_type": "markdown",
   "metadata": {},
   "source": [
    "## QUADRATIC TIME - O(n^2)\n",
    "When has to perform a linear time operation for each value in input data"
   ]
  },
  {
   "cell_type": "code",
   "execution_count": null,
   "metadata": {},
   "outputs": [],
   "source": [
    "for x in data:\n",
    "    for y in data:\n",
    "        print(x, y)"
   ]
  },
  {
   "cell_type": "code",
   "execution_count": 122,
   "metadata": {},
   "outputs": [
    {
     "name": "stdout",
     "output_type": "stream",
     "text": [
      "Data bubble sorted: [0, 1, 2, 3, 4, 5, 6, 7, 8, 9]\n"
     ]
    }
   ],
   "source": [
    "# bubble sort is a great example since for each value it needs to compare all other values in the list\n",
    "def bubble_sort(data):\n",
    "    swapped = True\n",
    "    while swapped:\n",
    "        swapped = False\n",
    "        for i in range(len(data) - 1):\n",
    "            if data[i] > data[i+1]:\n",
    "                data[i], data[i+1] = data[i+1], data[i]\n",
    "                swapped = True\n",
    "\n",
    "if __name__ == \"__main__\":\n",
    "    data = [9, 1, 7, 6, 2, 8, 5, 3, 4, 0]\n",
    "    bubble_sort(data)\n",
    "    print(f\"Data bubble sorted: {data}\")"
   ]
  },
  {
   "attachments": {},
   "cell_type": "markdown",
   "metadata": {},
   "source": [
    "## EXPONENTIAL TIME - O(2^n)\n",
    "An algorithm is said to have an exponential time complexity when the growth doubles with each addition to the input data set. This kind of time complexity is usually seen in brute-force algorithms.\\\n",
    "A brute-force attack may systematically check all possible elements of a password by iterating through subsets. Using an exponential algorithm to do this, it becomes incredibly resource-expensive to brute-force cack a long password versus a shorter one. \\\n",
    "**This is one reason a long password is considered more secure than a shorter one.**"
   ]
  },
  {
   "cell_type": "code",
   "execution_count": 133,
   "metadata": {},
   "outputs": [
    {
     "name": "stdout",
     "output_type": "stream",
     "text": [
      "fibonacci #10: 55\n"
     ]
    }
   ],
   "source": [
    "# exponential time can be achieved through calcualting fibonacci numbers recursively\n",
    "def fib(n):\n",
    "    if n <= 1:\n",
    "        return n\n",
    "    return fib(n-1) + fib(n-2)\n",
    "\n",
    "n = 10\n",
    "print(f\"fibonacci #{n}: {fib(n)}\")"
   ]
  },
  {
   "attachments": {},
   "cell_type": "markdown",
   "metadata": {},
   "source": [
    "## FACTORIAL - O(n!)\n",
    "An algorithm is said to have a factorial time complexity when it grows in a factorial way based on the size of the input data:\n",
    "```\n",
    "2! = 2 * 1 = 2\n",
    "3! = 3 * 2 * 1 = 6\n",
    "4! = 4 * 3 * 2 * 1 = 24\n",
    "5! = 5 * 4 * 3 * 2 * 1 = 120\n",
    "6! = 6 * 5 * 4 * 3 * 2 * 1 = 720\n",
    "```"
   ]
  },
  {
   "cell_type": "code",
   "execution_count": 150,
   "metadata": {},
   "outputs": [
    {
     "name": "stdout",
     "output_type": "stream",
     "text": [
      "Permutation: [1, 2, 3]\n",
      "Permutation: [2, 1, 3]\n",
      "Permutation: [3, 1, 2]\n",
      "Permutation: [1, 3, 2]\n",
      "Permutation: [2, 3, 1]\n",
      "Permutation: [3, 2, 1]\n"
     ]
    }
   ],
   "source": [
    "# A classic example of a factorial algorithm is a **Heap algorithm** which is used for generating\n",
    "# all possible permutations for n objects\n",
    "def heap_permutation(data, n):\n",
    "    if n == 1:\n",
    "        print(f\"Permutation: {data}\")\n",
    "        return\n",
    "\n",
    "    for i in range(n):\n",
    "        heap_permutation(data, n - 1)\n",
    "        if n % 2 == 0:\n",
    "            data[i], data[n-1] = data[n-1], data[i]\n",
    "        else:\n",
    "            data[0], data[n-1] = data[n-1], data[0]\n",
    "\n",
    "if __name__ == \"__main__\":\n",
    "    data = [1, 2, 3]\n",
    "    heap_permutation(data, len(data))"
   ]
  }
 ],
 "metadata": {
  "kernelspec": {
   "display_name": "Python 3",
   "language": "python",
   "name": "python3"
  },
  "language_info": {
   "codemirror_mode": {
    "name": "ipython",
    "version": 3
   },
   "file_extension": ".py",
   "mimetype": "text/x-python",
   "name": "python",
   "nbconvert_exporter": "python",
   "pygments_lexer": "ipython3",
   "version": "3.10.6"
  },
  "orig_nbformat": 4,
  "vscode": {
   "interpreter": {
    "hash": "916dbcbb3f70747c44a77c7bcd40155683ae19c65e1c03b4aa3499c5328201f1"
   }
  }
 },
 "nbformat": 4,
 "nbformat_minor": 2
}
